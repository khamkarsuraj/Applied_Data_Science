{
 "cells": [
  {
   "cell_type": "code",
   "execution_count": 1,
   "id": "5854ec8f-8afe-4e4f-be42-4af15cfaf543",
   "metadata": {},
   "outputs": [],
   "source": [
    "from Bio import SeqIO\n",
    "import pandas as pd"
   ]
  },
  {
   "cell_type": "code",
   "execution_count": 2,
   "id": "63851c31-ff87-4bbd-8ca7-f01cf12567ef",
   "metadata": {},
   "outputs": [],
   "source": [
    "#records = SeqIO.parse(\"ERR4796171.fastq\", \"fastq\")\n",
    "#df1 = pd.DataFrame.from_records(records)"
   ]
  },
  {
   "cell_type": "code",
   "execution_count": 3,
   "id": "044bd481-0e32-4abd-adc9-b3b9cc679b5d",
   "metadata": {},
   "outputs": [],
   "source": [
    "#df1"
   ]
  },
  {
   "cell_type": "code",
   "execution_count": 4,
   "id": "74b933bf-e471-4d89-8dcf-44f4de34ac57",
   "metadata": {},
   "outputs": [
    {
     "ename": "KeyboardInterrupt",
     "evalue": "",
     "output_type": "error",
     "traceback": [
      "\u001b[0;31m---------------------------------------------------------------------------\u001b[0m",
      "\u001b[0;31mKeyboardInterrupt\u001b[0m                         Traceback (most recent call last)",
      "Input \u001b[0;32mIn [4]\u001b[0m, in \u001b[0;36m<cell line: 6>\u001b[0;34m()\u001b[0m\n\u001b[1;32m      5\u001b[0m \u001b[38;5;66;03m# Open the FASTQ file\u001b[39;00m\n\u001b[1;32m      6\u001b[0m \u001b[38;5;28;01mwith\u001b[39;00m \u001b[38;5;28mopen\u001b[39m(\u001b[38;5;124m'\u001b[39m\u001b[38;5;124mERR4796171.fastq\u001b[39m\u001b[38;5;124m'\u001b[39m, \u001b[38;5;124m'\u001b[39m\u001b[38;5;124mr\u001b[39m\u001b[38;5;124m'\u001b[39m) \u001b[38;5;28;01mas\u001b[39;00m f:\n\u001b[1;32m      7\u001b[0m     \u001b[38;5;66;03m# Parse the FASTQ file and create a list of dictionaries with the data\u001b[39;00m\n\u001b[0;32m----> 8\u001b[0m     records \u001b[38;5;241m=\u001b[39m [{\u001b[38;5;124m'\u001b[39m\u001b[38;5;124mseq_id\u001b[39m\u001b[38;5;124m'\u001b[39m: record\u001b[38;5;241m.\u001b[39mid,\n\u001b[1;32m      9\u001b[0m                 \u001b[38;5;124m'\u001b[39m\u001b[38;5;124mseq\u001b[39m\u001b[38;5;124m'\u001b[39m: \u001b[38;5;28mstr\u001b[39m(record\u001b[38;5;241m.\u001b[39mseq),\n\u001b[1;32m     10\u001b[0m                 \u001b[38;5;124m'\u001b[39m\u001b[38;5;124mquality_scores\u001b[39m\u001b[38;5;124m'\u001b[39m: record\u001b[38;5;241m.\u001b[39mletter_annotations[\u001b[38;5;124m'\u001b[39m\u001b[38;5;124mphred_quality\u001b[39m\u001b[38;5;124m'\u001b[39m]} \n\u001b[1;32m     11\u001b[0m                 \u001b[38;5;28;01mfor\u001b[39;00m record \u001b[38;5;129;01min\u001b[39;00m SeqIO\u001b[38;5;241m.\u001b[39mparse(f, \u001b[38;5;124m'\u001b[39m\u001b[38;5;124mfastq\u001b[39m\u001b[38;5;124m'\u001b[39m)]\n\u001b[1;32m     13\u001b[0m \u001b[38;5;66;03m# Create a pandas DataFrame from the list of dictionaries\u001b[39;00m\n\u001b[1;32m     14\u001b[0m df \u001b[38;5;241m=\u001b[39m pd\u001b[38;5;241m.\u001b[39mDataFrame(records)\n",
      "Input \u001b[0;32mIn [4]\u001b[0m, in \u001b[0;36m<listcomp>\u001b[0;34m(.0)\u001b[0m\n\u001b[1;32m      5\u001b[0m \u001b[38;5;66;03m# Open the FASTQ file\u001b[39;00m\n\u001b[1;32m      6\u001b[0m \u001b[38;5;28;01mwith\u001b[39;00m \u001b[38;5;28mopen\u001b[39m(\u001b[38;5;124m'\u001b[39m\u001b[38;5;124mERR4796171.fastq\u001b[39m\u001b[38;5;124m'\u001b[39m, \u001b[38;5;124m'\u001b[39m\u001b[38;5;124mr\u001b[39m\u001b[38;5;124m'\u001b[39m) \u001b[38;5;28;01mas\u001b[39;00m f:\n\u001b[1;32m      7\u001b[0m     \u001b[38;5;66;03m# Parse the FASTQ file and create a list of dictionaries with the data\u001b[39;00m\n\u001b[0;32m----> 8\u001b[0m     records \u001b[38;5;241m=\u001b[39m [{\u001b[38;5;124m'\u001b[39m\u001b[38;5;124mseq_id\u001b[39m\u001b[38;5;124m'\u001b[39m: record\u001b[38;5;241m.\u001b[39mid,\n\u001b[1;32m      9\u001b[0m                 \u001b[38;5;124m'\u001b[39m\u001b[38;5;124mseq\u001b[39m\u001b[38;5;124m'\u001b[39m: \u001b[38;5;28mstr\u001b[39m(record\u001b[38;5;241m.\u001b[39mseq),\n\u001b[1;32m     10\u001b[0m                 \u001b[38;5;124m'\u001b[39m\u001b[38;5;124mquality_scores\u001b[39m\u001b[38;5;124m'\u001b[39m: record\u001b[38;5;241m.\u001b[39mletter_annotations[\u001b[38;5;124m'\u001b[39m\u001b[38;5;124mphred_quality\u001b[39m\u001b[38;5;124m'\u001b[39m]} \n\u001b[1;32m     11\u001b[0m                 \u001b[38;5;28;01mfor\u001b[39;00m record \u001b[38;5;129;01min\u001b[39;00m SeqIO\u001b[38;5;241m.\u001b[39mparse(f, \u001b[38;5;124m'\u001b[39m\u001b[38;5;124mfastq\u001b[39m\u001b[38;5;124m'\u001b[39m)]\n\u001b[1;32m     13\u001b[0m \u001b[38;5;66;03m# Create a pandas DataFrame from the list of dictionaries\u001b[39;00m\n\u001b[1;32m     14\u001b[0m df \u001b[38;5;241m=\u001b[39m pd\u001b[38;5;241m.\u001b[39mDataFrame(records)\n",
      "File \u001b[0;32m~/.local/lib/python3.9/site-packages/Bio/SeqIO/Interfaces.py:72\u001b[0m, in \u001b[0;36mSequenceIterator.__next__\u001b[0;34m(self)\u001b[0m\n\u001b[1;32m     70\u001b[0m \u001b[38;5;124;03m\"\"\"Return the next entry.\"\"\"\u001b[39;00m\n\u001b[1;32m     71\u001b[0m \u001b[38;5;28;01mtry\u001b[39;00m:\n\u001b[0;32m---> 72\u001b[0m     \u001b[38;5;28;01mreturn\u001b[39;00m \u001b[38;5;28;43mnext\u001b[39;49m\u001b[43m(\u001b[49m\u001b[38;5;28;43mself\u001b[39;49m\u001b[38;5;241;43m.\u001b[39;49m\u001b[43mrecords\u001b[49m\u001b[43m)\u001b[49m\n\u001b[1;32m     73\u001b[0m \u001b[38;5;28;01mexcept\u001b[39;00m \u001b[38;5;167;01mException\u001b[39;00m:\n\u001b[1;32m     74\u001b[0m     \u001b[38;5;28;01mif\u001b[39;00m \u001b[38;5;28mself\u001b[39m\u001b[38;5;241m.\u001b[39mshould_close_stream:\n",
      "File \u001b[0;32m~/.local/lib/python3.9/site-packages/Bio/SeqIO/QualityIO.py:1132\u001b[0m, in \u001b[0;36mFastqPhredIterator.iterate\u001b[0;34m(self, handle)\u001b[0m\n\u001b[1;32m   1130\u001b[0m record \u001b[38;5;241m=\u001b[39m SeqRecord(Seq(seq_string), \u001b[38;5;28mid\u001b[39m\u001b[38;5;241m=\u001b[39m\u001b[38;5;28mid\u001b[39m, name\u001b[38;5;241m=\u001b[39mname, description\u001b[38;5;241m=\u001b[39mdescr)\n\u001b[1;32m   1131\u001b[0m \u001b[38;5;28;01mtry\u001b[39;00m:\n\u001b[0;32m-> 1132\u001b[0m     qualities \u001b[38;5;241m=\u001b[39m [q_mapping[letter] \u001b[38;5;28;01mfor\u001b[39;00m letter \u001b[38;5;129;01min\u001b[39;00m quality_string]\n\u001b[1;32m   1133\u001b[0m \u001b[38;5;28;01mexcept\u001b[39;00m \u001b[38;5;167;01mKeyError\u001b[39;00m:\n\u001b[1;32m   1134\u001b[0m     \u001b[38;5;28;01mraise\u001b[39;00m \u001b[38;5;167;01mValueError\u001b[39;00m(\u001b[38;5;124m\"\u001b[39m\u001b[38;5;124mInvalid character in quality string\u001b[39m\u001b[38;5;124m\"\u001b[39m) \u001b[38;5;28;01mfrom\u001b[39;00m \u001b[38;5;28mNone\u001b[39m\n",
      "File \u001b[0;32m~/.local/lib/python3.9/site-packages/Bio/SeqIO/QualityIO.py:1132\u001b[0m, in \u001b[0;36m<listcomp>\u001b[0;34m(.0)\u001b[0m\n\u001b[1;32m   1130\u001b[0m record \u001b[38;5;241m=\u001b[39m SeqRecord(Seq(seq_string), \u001b[38;5;28mid\u001b[39m\u001b[38;5;241m=\u001b[39m\u001b[38;5;28mid\u001b[39m, name\u001b[38;5;241m=\u001b[39mname, description\u001b[38;5;241m=\u001b[39mdescr)\n\u001b[1;32m   1131\u001b[0m \u001b[38;5;28;01mtry\u001b[39;00m:\n\u001b[0;32m-> 1132\u001b[0m     qualities \u001b[38;5;241m=\u001b[39m [q_mapping[letter] \u001b[38;5;28;01mfor\u001b[39;00m letter \u001b[38;5;129;01min\u001b[39;00m quality_string]\n\u001b[1;32m   1133\u001b[0m \u001b[38;5;28;01mexcept\u001b[39;00m \u001b[38;5;167;01mKeyError\u001b[39;00m:\n\u001b[1;32m   1134\u001b[0m     \u001b[38;5;28;01mraise\u001b[39;00m \u001b[38;5;167;01mValueError\u001b[39;00m(\u001b[38;5;124m\"\u001b[39m\u001b[38;5;124mInvalid character in quality string\u001b[39m\u001b[38;5;124m\"\u001b[39m) \u001b[38;5;28;01mfrom\u001b[39;00m \u001b[38;5;28mNone\u001b[39m\n",
      "\u001b[0;31mKeyboardInterrupt\u001b[0m: "
     ]
    }
   ],
   "source": [
    "# Import the necessary libraries\n",
    "from Bio import SeqIO\n",
    "import pandas as pd\n",
    "\n",
    "# Open the FASTQ file\n",
    "with open('ERR4796171.fastq', 'r') as f:\n",
    "    # Parse the FASTQ file and create a list of dictionaries with the data\n",
    "    records = [{'seq_id': record.id,\n",
    "                'seq': str(record.seq),\n",
    "                'quality_scores': record.letter_annotations['phred_quality']} \n",
    "                for record in SeqIO.parse(f, 'fastq')]\n",
    "\n",
    "# Create a pandas DataFrame from the list of dictionaries\n",
    "df = pd.DataFrame(records)\n",
    "\n",
    "# Print the DataFrame\n",
    "print(df.head())\n",
    "print(records[0])"
   ]
  },
  {
   "cell_type": "code",
   "execution_count": 5,
   "id": "2ac4946f-3009-444a-be2e-82e3e6e5f2d9",
   "metadata": {},
   "outputs": [
    {
     "name": "stderr",
     "output_type": "stream",
     "text": [
      "/software/spackages/linux-rocky8-x86_64/gcc-9.5.0/anaconda3-2022.05-zyrazrj6uvrtukupqzhaslr63w7hj6in/lib/python3.9/site-packages/scipy/__init__.py:146: UserWarning: A NumPy version >=1.16.5 and <1.23.0 is required for this version of SciPy (detected version 1.24.2\n",
      "  warnings.warn(f\"A NumPy version >={np_minversion} and <{np_maxversion}\"\n"
     ]
    },
    {
     "name": "stdout",
     "output_type": "stream",
     "text": [
      "         seq_id                                                seq  \\\n",
      "0  ERR4796171.1  CAGGAACAGCAAAGGAAATCCGGCAAATTTGCGCAGTCATTCTCAA...   \n",
      "1  ERR4796171.2  TGGTGAATGATACCCGGTGCTGGCAATCTCGTTTAAACTACATGCA...   \n",
      "2  ERR4796171.3  CCACAGCATCAAGACCCTGTGACCTCTCAAAGGCCCGGTGGAAAGG...   \n",
      "3  ERR4796171.4  CTGGAAGTCAGACACCTGCAGATGAAGACCACAGCATCAAGACCCT...   \n",
      "4  ERR4796171.5  CTGGAAGTCAGACACCTGCAGATGAAGACCACAGCATCAAGACCCT...   \n",
      "\n",
      "                                      quality_scores  \n",
      "0  [32, 32, 32, 32, 32, 36, 36, 36, 36, 36, 36, 3...  \n",
      "1  [32, 32, 32, 32, 32, 36, 36, 36, 14, 32, 36, 2...  \n",
      "2  [32, 14, 32, 32, 32, 36, 14, 36, 36, 36, 32, 3...  \n",
      "3  [32, 32, 32, 32, 32, 36, 36, 36, 36, 36, 36, 3...  \n",
      "4  [32, 32, 21, 32, 32, 36, 32, 36, 36, 36, 36, 3...  \n"
     ]
    }
   ],
   "source": [
    "import ast\n",
    "import statistics\n",
    "from sklearn.linear_model import LinearRegression\n",
    "from sklearn.metrics import mean_squared_error, mean_absolute_error, r2_score\n",
    "from sklearn.model_selection import train_test_split\n",
    "from Bio import SeqIO\n",
    "import pandas as pd\n",
    "\n",
    "# Open the FASTQ file\n",
    "with open('ERR4796171.fastq', 'r') as f:\n",
    "    # Parse the FASTQ file and create a list of dictionaries with the data\n",
    "    records = [{'seq_id': record.id,\n",
    "                'seq': str(record.seq),\n",
    "                'quality_scores': record.letter_annotations['phred_quality']} \n",
    "                for record in SeqIO.parse(f, 'fastq')]\n",
    "\n",
    "# Create a pandas DataFrame from the list of dictionaries\n",
    "df = pd.DataFrame(records)\n",
    "\n",
    "# Print the DataFrame\n",
    "print(df.head())"
   ]
  },
  {
   "cell_type": "code",
   "execution_count": 6,
   "id": "dc960bdc-31fb-4bab-8c3b-ed629832e533",
   "metadata": {},
   "outputs": [],
   "source": [
    "a_c=lambda x: str(x).count('C')\n",
    "df['C'] = df['seq'].apply(a_c)\n",
    "\n",
    "a_g=lambda x: str(x).count('G')\n",
    "df['G'] = df['seq'].apply(a_g)\n",
    "\n",
    "a_t=lambda x: str(x).count('T')\n",
    "df['T'] =df['seq'].apply(a_t)\n",
    "\n",
    "a_a=lambda x: str(x).count('A')\n",
    "df['A'] = df['seq'].apply(a_a)"
   ]
  },
  {
   "cell_type": "code",
   "execution_count": 7,
   "id": "03ebc450-f8da-4d52-b3a9-99a1d70813fd",
   "metadata": {},
   "outputs": [],
   "source": [
    "#df['qs'] = [ast.literal_eval(st) for st in df['quality_scores']]\n",
    "df['avg'] = [round(statistics.mean(col), 2) for col in df['quality_scores']]"
   ]
  },
  {
   "cell_type": "code",
   "execution_count": 8,
   "id": "52b9e84c-c17a-4eff-93b0-88679824ca33",
   "metadata": {},
   "outputs": [
    {
     "name": "stdout",
     "output_type": "stream",
     "text": [
      "Intercept term:  27.819542654953004\n",
      "Coefficients: \n",
      " [0.08448809 0.09481963 0.10448609 0.09439769]\n",
      "R-square, Training, Linear Regression:  0.014693137945421708\n",
      "R-square, Testing, Linear Regression:  0.014235879454458367\n",
      "MSE Train:  2.2343667424751135\n",
      "MSE Test:  2.2397376161807054\n"
     ]
    }
   ],
   "source": [
    "x = df[['C', 'G', 'T', 'A']]\n",
    "y = df['avg']\n",
    "\n",
    "x.values.reshape(4, -1)\n",
    "y.values.reshape(1, -1)\n",
    "\n",
    "X_train, X_test, y_train, y_test = train_test_split(x, y, test_size = 0.2, random_state = 32)\n",
    "\n",
    "lm = LinearRegression()\n",
    "lm.fit(X_train, y_train)\n",
    "y_pred_train = lm.predict(X_train)\n",
    "y_pred_test = lm.predict(X_test)\n",
    "mse_train = mean_squared_error(y_pred_train, y_train)\n",
    "mse_test = mean_squared_error(y_pred_test, y_test)\n",
    "\n",
    "print('Intercept term: ', lm.intercept_)\n",
    "print('Coefficients: \\n', lm.coef_)\n",
    "print('R-square, Training, Linear Regression: ', r2_score(y_train, y_pred_train))\n",
    "print('R-square, Testing, Linear Regression: ', r2_score(y_test, y_pred_test))\n",
    "print(\"MSE Train: \", mse_train)\n",
    "print(\"MSE Test: \", mse_test)"
   ]
  },
  {
   "cell_type": "code",
   "execution_count": null,
   "id": "d165fe20-0223-4d62-a51d-582140e8b057",
   "metadata": {},
   "outputs": [
    {
     "data": {
      "text/html": [
       "<div>\n",
       "<style scoped>\n",
       "    .dataframe tbody tr th:only-of-type {\n",
       "        vertical-align: middle;\n",
       "    }\n",
       "\n",
       "    .dataframe tbody tr th {\n",
       "        vertical-align: top;\n",
       "    }\n",
       "\n",
       "    .dataframe thead th {\n",
       "        text-align: right;\n",
       "    }\n",
       "</style>\n",
       "<table border=\"1\" class=\"dataframe\">\n",
       "  <thead>\n",
       "    <tr style=\"text-align: right;\">\n",
       "      <th></th>\n",
       "      <th>seq_id</th>\n",
       "      <th>seq</th>\n",
       "      <th>quality_scores</th>\n",
       "      <th>C</th>\n",
       "      <th>G</th>\n",
       "      <th>T</th>\n",
       "      <th>A</th>\n",
       "      <th>avg</th>\n",
       "    </tr>\n",
       "  </thead>\n",
       "  <tbody>\n",
       "    <tr>\n",
       "      <th>0</th>\n",
       "      <td>ERR4796171.1</td>\n",
       "      <td>CAGGAACAGCAAAGGAAATCCGGCAAATTTGCGCAGTCATTCTCAA...</td>\n",
       "      <td>[32, 32, 32, 32, 32, 36, 36, 36, 36, 36, 36, 3...</td>\n",
       "      <td>20</td>\n",
       "      <td>17</td>\n",
       "      <td>12</td>\n",
       "      <td>26</td>\n",
       "      <td>35.73</td>\n",
       "    </tr>\n",
       "    <tr>\n",
       "      <th>1</th>\n",
       "      <td>ERR4796171.2</td>\n",
       "      <td>TGGTGAATGATACCCGGTGCTGGCAATCTCGTTTAAACTACATGCA...</td>\n",
       "      <td>[32, 32, 32, 32, 32, 36, 36, 36, 14, 32, 36, 2...</td>\n",
       "      <td>16</td>\n",
       "      <td>19</td>\n",
       "      <td>17</td>\n",
       "      <td>24</td>\n",
       "      <td>33.91</td>\n",
       "    </tr>\n",
       "    <tr>\n",
       "      <th>2</th>\n",
       "      <td>ERR4796171.3</td>\n",
       "      <td>CCACAGCATCAAGACCCTGTGACCTCTCAAAGGCCCGGTGGAAAGG...</td>\n",
       "      <td>[32, 14, 32, 32, 32, 36, 14, 36, 36, 36, 32, 3...</td>\n",
       "      <td>21</td>\n",
       "      <td>22</td>\n",
       "      <td>9</td>\n",
       "      <td>22</td>\n",
       "      <td>31.20</td>\n",
       "    </tr>\n",
       "    <tr>\n",
       "      <th>3</th>\n",
       "      <td>ERR4796171.4</td>\n",
       "      <td>CTGGAAGTCAGACACCTGCAGATGAAGACCACAGCATCAAGACCCT...</td>\n",
       "      <td>[32, 32, 32, 32, 32, 36, 36, 36, 36, 36, 36, 3...</td>\n",
       "      <td>22</td>\n",
       "      <td>20</td>\n",
       "      <td>10</td>\n",
       "      <td>24</td>\n",
       "      <td>35.68</td>\n",
       "    </tr>\n",
       "    <tr>\n",
       "      <th>4</th>\n",
       "      <td>ERR4796171.5</td>\n",
       "      <td>CTGGAAGTCAGACACCTGCAGATGAAGACCACAGCATCAAGACCCT...</td>\n",
       "      <td>[32, 32, 21, 32, 32, 36, 32, 36, 36, 36, 36, 3...</td>\n",
       "      <td>21</td>\n",
       "      <td>20</td>\n",
       "      <td>10</td>\n",
       "      <td>23</td>\n",
       "      <td>33.78</td>\n",
       "    </tr>\n",
       "  </tbody>\n",
       "</table>\n",
       "</div>"
      ],
      "text/plain": [
       "         seq_id                                                seq  \\\n",
       "0  ERR4796171.1  CAGGAACAGCAAAGGAAATCCGGCAAATTTGCGCAGTCATTCTCAA...   \n",
       "1  ERR4796171.2  TGGTGAATGATACCCGGTGCTGGCAATCTCGTTTAAACTACATGCA...   \n",
       "2  ERR4796171.3  CCACAGCATCAAGACCCTGTGACCTCTCAAAGGCCCGGTGGAAAGG...   \n",
       "3  ERR4796171.4  CTGGAAGTCAGACACCTGCAGATGAAGACCACAGCATCAAGACCCT...   \n",
       "4  ERR4796171.5  CTGGAAGTCAGACACCTGCAGATGAAGACCACAGCATCAAGACCCT...   \n",
       "\n",
       "                                      quality_scores   C   G   T   A    avg  \n",
       "0  [32, 32, 32, 32, 32, 36, 36, 36, 36, 36, 36, 3...  20  17  12  26  35.73  \n",
       "1  [32, 32, 32, 32, 32, 36, 36, 36, 14, 32, 36, 2...  16  19  17  24  33.91  \n",
       "2  [32, 14, 32, 32, 32, 36, 14, 36, 36, 36, 32, 3...  21  22   9  22  31.20  \n",
       "3  [32, 32, 32, 32, 32, 36, 36, 36, 36, 36, 36, 3...  22  20  10  24  35.68  \n",
       "4  [32, 32, 21, 32, 32, 36, 32, 36, 36, 36, 36, 3...  21  20  10  23  33.78  "
      ]
     },
     "execution_count": 9,
     "metadata": {},
     "output_type": "execute_result"
    }
   ],
   "source": [
    "df.head()"
   ]
  },
  {
   "cell_type": "code",
   "execution_count": null,
   "id": "e7c7428c-24d1-4812-8833-70bbc90fd7e2",
   "metadata": {},
   "outputs": [],
   "source": []
  }
 ],
 "metadata": {
  "kernelspec": {
   "display_name": "Python 3 (ipykernel)",
   "language": "python",
   "name": "python3"
  },
  "language_info": {
   "codemirror_mode": {
    "name": "ipython",
    "version": 3
   },
   "file_extension": ".py",
   "mimetype": "text/x-python",
   "name": "python",
   "nbconvert_exporter": "python",
   "pygments_lexer": "ipython3",
   "version": "3.9.12"
  }
 },
 "nbformat": 4,
 "nbformat_minor": 5
}
