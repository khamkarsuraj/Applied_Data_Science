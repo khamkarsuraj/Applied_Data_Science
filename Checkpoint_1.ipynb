{
 "cells": [
  {
   "cell_type": "code",
   "execution_count": null,
   "id": "2b1c04b1",
   "metadata": {},
   "outputs": [],
   "source": [
    "from Bio import SeqIO\n",
    "import pandas as pd\n",
    "\n",
    "# Load FASTQ file into DataFrame\n",
    "records = SeqIO.parse(\"ERR4796171.fastq\", \"fastq\")\n",
    "df = pd.DataFrame.from_records(records)"
   ]
  },
  {
   "cell_type": "code",
   "execution_count": 13,
   "id": "a2d214ff",
   "metadata": {},
   "outputs": [
    {
     "data": {
      "text/plain": [
       "36892398"
      ]
     },
     "execution_count": 13,
     "metadata": {},
     "output_type": "execute_result"
    }
   ],
   "source": [
    "len(df)"
   ]
  },
  {
   "cell_type": "code",
   "execution_count": 14,
   "id": "7951a4cd",
   "metadata": {},
   "outputs": [
    {
     "data": {
      "text/plain": [
       "['ERR4796171.1', 'ERR4796171.2', 'ERR4796171.3', 'ERR4796171.4']"
      ]
     },
     "execution_count": 14,
     "metadata": {},
     "output_type": "execute_result"
    }
   ],
   "source": [
    "list(df.keys())[:4]"
   ]
  },
  {
   "cell_type": "code",
   "execution_count": 15,
   "id": "a7d7818d",
   "metadata": {},
   "outputs": [
    {
     "data": {
      "text/plain": [
       "Seq('CAGGAACAGCAAAGGAAATCCGGCAAATTTGCGCAGTCATTCTCAACACCGGCC...TGG')"
      ]
     },
     "execution_count": 15,
     "metadata": {},
     "output_type": "execute_result"
    }
   ],
   "source": [
    "df['ERR4796171.1'].seq"
   ]
  },
  {
   "cell_type": "code",
   "execution_count": 16,
   "id": "85df215d",
   "metadata": {},
   "outputs": [
    {
     "ename": "AttributeError",
     "evalue": "'_IndexedSeqFileDict' object has no attribute 'isnull'",
     "output_type": "error",
     "traceback": [
      "\u001b[0;31m---------------------------------------------------------------------------\u001b[0m",
      "\u001b[0;31mAttributeError\u001b[0m                            Traceback (most recent call last)",
      "\u001b[0;32m/var/folders/x1/3fzzpt8s0wb1z5zdd_z53mxr0000gn/T/ipykernel_73372/1720311068.py\u001b[0m in \u001b[0;36m<module>\u001b[0;34m\u001b[0m\n\u001b[0;32m----> 1\u001b[0;31m \u001b[0mdf\u001b[0m\u001b[0;34m.\u001b[0m\u001b[0misnull\u001b[0m\u001b[0;34m(\u001b[0m\u001b[0;34m)\u001b[0m\u001b[0;34m.\u001b[0m\u001b[0mvalues\u001b[0m\u001b[0;34m.\u001b[0m\u001b[0many\u001b[0m\u001b[0;34m(\u001b[0m\u001b[0;34m)\u001b[0m\u001b[0;34m\u001b[0m\u001b[0;34m\u001b[0m\u001b[0m\n\u001b[0m",
      "\u001b[0;31mAttributeError\u001b[0m: '_IndexedSeqFileDict' object has no attribute 'isnull'"
     ]
    }
   ],
   "source": [
    "df.isnull().values.any()"
   ]
  },
  {
   "cell_type": "code",
   "execution_count": null,
   "id": "8ae23193",
   "metadata": {},
   "outputs": [],
   "source": [
    "awk '{ if (NR % 4 == 2 && length($0) == 0) { print \"Null sequence found on line\", NR } else if (NR % 4 == 0 && length($0) == 0) { print \"Null quality scores found on line\", NR } }' your_fastq_file.fastq\n"
   ]
  }
 ],
 "metadata": {
  "kernelspec": {
   "display_name": "Python 3 (ipykernel)",
   "language": "python",
   "name": "python3"
  },
  "language_info": {
   "codemirror_mode": {
    "name": "ipython",
    "version": 3
   },
   "file_extension": ".py",
   "mimetype": "text/x-python",
   "name": "python",
   "nbconvert_exporter": "python",
   "pygments_lexer": "ipython3",
   "version": "3.9.13"
  }
 },
 "nbformat": 4,
 "nbformat_minor": 5
}
